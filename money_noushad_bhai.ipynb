{
  "nbformat": 4,
  "nbformat_minor": 0,
  "metadata": {
    "colab": {
      "name": "money-noushad bhai.ipynb",
      "provenance": [],
      "authorship_tag": "ABX9TyODKQJcdDVh4K7uke/Ur3N6",
      "include_colab_link": true
    },
    "kernelspec": {
      "name": "python3",
      "display_name": "Python 3"
    },
    "accelerator": "GPU"
  },
  "cells": [
    {
      "cell_type": "markdown",
      "metadata": {
        "id": "view-in-github",
        "colab_type": "text"
      },
      "source": [
        "<a href=\"https://colab.research.google.com/github/Mahir101/BanglaCurrencyClassifier/blob/master/money_noushad_bhai.ipynb\" target=\"_parent\"><img src=\"https://colab.research.google.com/assets/colab-badge.svg\" alt=\"Open In Colab\"/></a>"
      ]
    },
    {
      "cell_type": "code",
      "metadata": {
        "id": "yKOeUIiitv9E",
        "colab_type": "code",
        "colab": {
          "base_uri": "https://localhost:8080/",
          "height": 125
        },
        "outputId": "dae990e2-e9c1-46a7-a030-d93b22e0fee6"
      },
      "source": [
        "from google.colab import drive\n",
        "drive.mount('/content/drive')"
      ],
      "execution_count": 1,
      "outputs": [
        {
          "output_type": "stream",
          "text": [
            "Go to this URL in a browser: https://accounts.google.com/o/oauth2/auth?client_id=947318989803-6bn6qk8qdgf4n4g3pfee6491hc0brc4i.apps.googleusercontent.com&redirect_uri=urn%3aietf%3awg%3aoauth%3a2.0%3aoob&response_type=code&scope=email%20https%3a%2f%2fwww.googleapis.com%2fauth%2fdocs.test%20https%3a%2f%2fwww.googleapis.com%2fauth%2fdrive%20https%3a%2f%2fwww.googleapis.com%2fauth%2fdrive.photos.readonly%20https%3a%2f%2fwww.googleapis.com%2fauth%2fpeopleapi.readonly\n",
            "\n",
            "Enter your authorization code:\n",
            "··········\n",
            "Mounted at /content/drive\n"
          ],
          "name": "stdout"
        }
      ]
    },
    {
      "cell_type": "code",
      "metadata": {
        "id": "9fETWNP3BXOj",
        "colab_type": "code",
        "colab": {}
      },
      "source": [
        "!unzip \"/content/BanglaCurrencyRecognizer.zip\""
      ],
      "execution_count": null,
      "outputs": []
    },
    {
      "cell_type": "code",
      "metadata": {
        "id": "lQu7BUORk0JO",
        "colab_type": "code",
        "colab": {
          "base_uri": "https://localhost:8080/",
          "height": 34
        },
        "outputId": "5745f2d6-4114-457f-835d-eadcfc01a038"
      },
      "source": [
        "!pwd\n",
        "# !zip -r \"/content/BanglaCurrencyRecognizer\" \"BanglaCurrencyRecognizer\""
      ],
      "execution_count": 4,
      "outputs": [
        {
          "output_type": "stream",
          "text": [
            "/content/BanglaCurrencyRecognizer/10_Bangla_Currency_Recognizer\n"
          ],
          "name": "stdout"
        }
      ]
    },
    {
      "cell_type": "code",
      "metadata": {
        "id": "rxiZaYbWhduO",
        "colab_type": "code",
        "colab": {}
      },
      "source": [
        "import os\n",
        "os.chdir('/content/BanglaCurrencyRecognizer/10_Bangla_Currency_Recognizer')"
      ],
      "execution_count": 3,
      "outputs": []
    },
    {
      "cell_type": "code",
      "metadata": {
        "id": "Le6Y7YbNhjHW",
        "colab_type": "code",
        "colab": {
          "base_uri": "https://localhost:8080/",
          "height": 34
        },
        "outputId": "28f25b97-4ace-4667-cd03-bb0ba90f6d6f"
      },
      "source": [
        "!pwd"
      ],
      "execution_count": 6,
      "outputs": [
        {
          "output_type": "stream",
          "text": [
            "/content/BanglaCurrencyRecognizer/10_Bangla_Currency_Recognizer\n"
          ],
          "name": "stdout"
        }
      ]
    },
    {
      "cell_type": "code",
      "metadata": {
        "id": "FyWr08V2kz1G",
        "colab_type": "code",
        "colab": {
          "base_uri": "https://localhost:8080/",
          "height": 265
        },
        "outputId": "a77e0892-9c17-41ac-a547-c26557c6b823"
      },
      "source": [
        "!python data.py ./Data/data.zip ./Data/Train/Best_hyperparameter_80_percent/ ./Data/Validation/Validation_10_percent/ ./Data/Test/Test_10_percent/ ./Data/Train/Under_10_min_training/ ./Data/Train/Under_90_min_tuning/ ./Data/Validation/3_samples/"
      ],
      "execution_count": 6,
      "outputs": [
        {
          "output_type": "stream",
          "text": [
            "clear Data folder.......\n",
            "start unzip data.zip.......\n",
            "end unzip data.zip............\n",
            "working with........ 1\n",
            "working with........ 50\n",
            "working with........ 10\n",
            "working with........ 100\n",
            "working with........ 5\n",
            "working with........ 20\n",
            "working with........ 2\n",
            "working with........ 1000\n",
            "working with........ 500\n",
            "creating zip.............\n",
            "clear files.........\n"
          ],
          "name": "stdout"
        }
      ]
    },
    {
      "cell_type": "code",
      "metadata": {
        "id": "b8Kz_A0n1O5u",
        "colab_type": "code",
        "colab": {}
      },
      "source": [
        "!python tune.py ./Data/Train/Under_90_min_tuning/data.zip ./Data/Validation/Validation_10_percent/data.zip ./tuning_results.txt ./hyperparameter.txt"
      ],
      "execution_count": null,
      "outputs": []
    },
    {
      "cell_type": "code",
      "metadata": {
        "id": "CxEzNJDM8Hg3",
        "colab_type": "code",
        "colab": {
          "base_uri": "https://localhost:8080/",
          "height": 1000
        },
        "outputId": "8f563eaf-343c-412d-b143-9ca9a3fbda37"
      },
      "source": [
        "!python train.py ./Data/Train/Best_hyperparameter_80_percent/data.zip ./hyperparameter.txt ./model.h5"
      ],
      "execution_count": 8,
      "outputs": [
        {
          "output_type": "stream",
          "text": [
            "Using TensorFlow backend.\n",
            "2020-07-19 14:10:50.999868: I tensorflow/stream_executor/platform/default/dso_loader.cc:44] Successfully opened dynamic library libcudart.so.10.1\n",
            "1.0\n",
            "224\n",
            "./Data/Train/Best_hyperparameter_80_percent/data.zip\n",
            "./model.h5\n",
            "Found 1578 images belonging to 9 classes.\n",
            "2020-07-19 14:10:53.331462: I tensorflow/stream_executor/platform/default/dso_loader.cc:44] Successfully opened dynamic library libcuda.so.1\n",
            "2020-07-19 14:10:53.350589: I tensorflow/stream_executor/cuda/cuda_gpu_executor.cc:981] successful NUMA node read from SysFS had negative value (-1), but there must be at least one NUMA node, so returning NUMA node zero\n",
            "2020-07-19 14:10:53.351463: I tensorflow/core/common_runtime/gpu/gpu_device.cc:1561] Found device 0 with properties: \n",
            "pciBusID: 0000:00:04.0 name: Tesla K80 computeCapability: 3.7\n",
            "coreClock: 0.8235GHz coreCount: 13 deviceMemorySize: 11.17GiB deviceMemoryBandwidth: 223.96GiB/s\n",
            "2020-07-19 14:10:53.351557: I tensorflow/stream_executor/platform/default/dso_loader.cc:44] Successfully opened dynamic library libcudart.so.10.1\n",
            "2020-07-19 14:10:53.353280: I tensorflow/stream_executor/platform/default/dso_loader.cc:44] Successfully opened dynamic library libcublas.so.10\n",
            "2020-07-19 14:10:53.355578: I tensorflow/stream_executor/platform/default/dso_loader.cc:44] Successfully opened dynamic library libcufft.so.10\n",
            "2020-07-19 14:10:53.355914: I tensorflow/stream_executor/platform/default/dso_loader.cc:44] Successfully opened dynamic library libcurand.so.10\n",
            "2020-07-19 14:10:53.358223: I tensorflow/stream_executor/platform/default/dso_loader.cc:44] Successfully opened dynamic library libcusolver.so.10\n",
            "2020-07-19 14:10:53.359248: I tensorflow/stream_executor/platform/default/dso_loader.cc:44] Successfully opened dynamic library libcusparse.so.10\n",
            "2020-07-19 14:10:53.363737: I tensorflow/stream_executor/platform/default/dso_loader.cc:44] Successfully opened dynamic library libcudnn.so.7\n",
            "2020-07-19 14:10:53.363953: I tensorflow/stream_executor/cuda/cuda_gpu_executor.cc:981] successful NUMA node read from SysFS had negative value (-1), but there must be at least one NUMA node, so returning NUMA node zero\n",
            "2020-07-19 14:10:53.364993: I tensorflow/stream_executor/cuda/cuda_gpu_executor.cc:981] successful NUMA node read from SysFS had negative value (-1), but there must be at least one NUMA node, so returning NUMA node zero\n",
            "2020-07-19 14:10:53.365641: I tensorflow/core/common_runtime/gpu/gpu_device.cc:1703] Adding visible gpu devices: 0\n",
            "2020-07-19 14:10:53.372197: I tensorflow/core/platform/profile_utils/cpu_utils.cc:102] CPU Frequency: 2300000000 Hz\n",
            "2020-07-19 14:10:53.372524: I tensorflow/compiler/xla/service/service.cc:168] XLA service 0x215abc0 initialized for platform Host (this does not guarantee that XLA will be used). Devices:\n",
            "2020-07-19 14:10:53.372611: I tensorflow/compiler/xla/service/service.cc:176]   StreamExecutor device (0): Host, Default Version\n",
            "2020-07-19 14:10:53.436158: I tensorflow/stream_executor/cuda/cuda_gpu_executor.cc:981] successful NUMA node read from SysFS had negative value (-1), but there must be at least one NUMA node, so returning NUMA node zero\n",
            "2020-07-19 14:10:53.437058: I tensorflow/compiler/xla/service/service.cc:168] XLA service 0x215ad80 initialized for platform CUDA (this does not guarantee that XLA will be used). Devices:\n",
            "2020-07-19 14:10:53.437130: I tensorflow/compiler/xla/service/service.cc:176]   StreamExecutor device (0): Tesla K80, Compute Capability 3.7\n",
            "2020-07-19 14:10:53.437483: I tensorflow/stream_executor/cuda/cuda_gpu_executor.cc:981] successful NUMA node read from SysFS had negative value (-1), but there must be at least one NUMA node, so returning NUMA node zero\n",
            "2020-07-19 14:10:53.438302: I tensorflow/core/common_runtime/gpu/gpu_device.cc:1561] Found device 0 with properties: \n",
            "pciBusID: 0000:00:04.0 name: Tesla K80 computeCapability: 3.7\n",
            "coreClock: 0.8235GHz coreCount: 13 deviceMemorySize: 11.17GiB deviceMemoryBandwidth: 223.96GiB/s\n",
            "2020-07-19 14:10:53.438400: I tensorflow/stream_executor/platform/default/dso_loader.cc:44] Successfully opened dynamic library libcudart.so.10.1\n",
            "2020-07-19 14:10:53.438464: I tensorflow/stream_executor/platform/default/dso_loader.cc:44] Successfully opened dynamic library libcublas.so.10\n",
            "2020-07-19 14:10:53.438503: I tensorflow/stream_executor/platform/default/dso_loader.cc:44] Successfully opened dynamic library libcufft.so.10\n",
            "2020-07-19 14:10:53.438562: I tensorflow/stream_executor/platform/default/dso_loader.cc:44] Successfully opened dynamic library libcurand.so.10\n",
            "2020-07-19 14:10:53.438603: I tensorflow/stream_executor/platform/default/dso_loader.cc:44] Successfully opened dynamic library libcusolver.so.10\n",
            "2020-07-19 14:10:53.438640: I tensorflow/stream_executor/platform/default/dso_loader.cc:44] Successfully opened dynamic library libcusparse.so.10\n",
            "2020-07-19 14:10:53.438678: I tensorflow/stream_executor/platform/default/dso_loader.cc:44] Successfully opened dynamic library libcudnn.so.7\n",
            "2020-07-19 14:10:53.438805: I tensorflow/stream_executor/cuda/cuda_gpu_executor.cc:981] successful NUMA node read from SysFS had negative value (-1), but there must be at least one NUMA node, so returning NUMA node zero\n",
            "2020-07-19 14:10:53.439497: I tensorflow/stream_executor/cuda/cuda_gpu_executor.cc:981] successful NUMA node read from SysFS had negative value (-1), but there must be at least one NUMA node, so returning NUMA node zero\n",
            "2020-07-19 14:10:53.440166: I tensorflow/core/common_runtime/gpu/gpu_device.cc:1703] Adding visible gpu devices: 0\n",
            "2020-07-19 14:10:53.440257: I tensorflow/stream_executor/platform/default/dso_loader.cc:44] Successfully opened dynamic library libcudart.so.10.1\n",
            "2020-07-19 14:10:53.865250: I tensorflow/core/common_runtime/gpu/gpu_device.cc:1102] Device interconnect StreamExecutor with strength 1 edge matrix:\n",
            "2020-07-19 14:10:53.865319: I tensorflow/core/common_runtime/gpu/gpu_device.cc:1108]      0 \n",
            "2020-07-19 14:10:53.865345: I tensorflow/core/common_runtime/gpu/gpu_device.cc:1121] 0:   N \n",
            "2020-07-19 14:10:53.865657: I tensorflow/stream_executor/cuda/cuda_gpu_executor.cc:981] successful NUMA node read from SysFS had negative value (-1), but there must be at least one NUMA node, so returning NUMA node zero\n",
            "2020-07-19 14:10:53.866682: I tensorflow/stream_executor/cuda/cuda_gpu_executor.cc:981] successful NUMA node read from SysFS had negative value (-1), but there must be at least one NUMA node, so returning NUMA node zero\n",
            "2020-07-19 14:10:53.867368: W tensorflow/core/common_runtime/gpu/gpu_bfc_allocator.cc:39] Overriding allow_growth setting because the TF_FORCE_GPU_ALLOW_GROWTH environment variable is set. Original config value was 0.\n",
            "2020-07-19 14:10:53.867430: I tensorflow/core/common_runtime/gpu/gpu_device.cc:1247] Created TensorFlow device (/job:localhost/replica:0/task:0/device:GPU:0 with 10634 MB memory) -> physical GPU (device: 0, name: Tesla K80, pci bus id: 0000:00:04.0, compute capability: 3.7)\n",
            "train.py:84: UserWarning: Update your `Dense` call to the Keras 2 API: `Dense(activation=\"softmax\", units=9)`\n",
            "  predictions = Dense(output_dim=nb_classes, activation=\"softmax\")(x)  # returns a probability vector of 8 classes\n",
            "train.py:85: UserWarning: Update your `Model` call to the Keras 2 API: `Model(inputs=Tensor(\"in..., outputs=Tensor(\"de...)`\n",
            "  model_final = Model(input=model.input, output=predictions)\n",
            "Epoch 1/25\n",
            "2020-07-19 14:11:13.130008: I tensorflow/stream_executor/platform/default/dso_loader.cc:44] Successfully opened dynamic library libcublas.so.10\n",
            "2020-07-19 14:11:14.572587: I tensorflow/stream_executor/platform/default/dso_loader.cc:44] Successfully opened dynamic library libcudnn.so.7\n",
            "176/176 [==============================] - 56s 320ms/step - loss: 2.8645 - accuracy: 0.1762\n",
            "Epoch 2/25\n",
            "176/176 [==============================] - 43s 245ms/step - loss: 1.9543 - accuracy: 0.3023\n",
            "Epoch 3/25\n",
            "176/176 [==============================] - 43s 246ms/step - loss: 1.2970 - accuracy: 0.5285\n",
            "Epoch 4/25\n",
            "176/176 [==============================] - 43s 245ms/step - loss: 0.9279 - accuracy: 0.6667\n",
            "Epoch 5/25\n",
            "176/176 [==============================] - 43s 245ms/step - loss: 0.6603 - accuracy: 0.7687\n",
            "Epoch 6/25\n",
            "176/176 [==============================] - 43s 245ms/step - loss: 0.4176 - accuracy: 0.8701\n",
            "Epoch 7/25\n",
            "176/176 [==============================] - 43s 245ms/step - loss: 0.3440 - accuracy: 0.8796\n",
            "Epoch 8/25\n",
            "176/176 [==============================] - 43s 245ms/step - loss: 0.2677 - accuracy: 0.9214\n",
            "Epoch 9/25\n",
            "176/176 [==============================] - 43s 244ms/step - loss: 0.2446 - accuracy: 0.9271\n",
            "Epoch 10/25\n",
            "176/176 [==============================] - 43s 246ms/step - loss: 0.1992 - accuracy: 0.9379\n",
            "Epoch 11/25\n",
            "176/176 [==============================] - 43s 245ms/step - loss: 0.2363 - accuracy: 0.9303\n",
            "Epoch 12/25\n",
            "176/176 [==============================] - 43s 245ms/step - loss: 0.2057 - accuracy: 0.9373\n",
            "Epoch 13/25\n",
            "176/176 [==============================] - 43s 245ms/step - loss: 0.1303 - accuracy: 0.9569\n",
            "Epoch 14/25\n",
            "176/176 [==============================] - 43s 245ms/step - loss: 0.1196 - accuracy: 0.9645\n",
            "Epoch 15/25\n",
            "176/176 [==============================] - 43s 245ms/step - loss: 0.1272 - accuracy: 0.9607\n",
            "Epoch 16/25\n",
            "176/176 [==============================] - 43s 244ms/step - loss: 0.1443 - accuracy: 0.9569\n",
            "Epoch 17/25\n",
            "176/176 [==============================] - 43s 245ms/step - loss: 0.1437 - accuracy: 0.9594\n",
            "Epoch 18/25\n",
            "176/176 [==============================] - 43s 244ms/step - loss: 0.0937 - accuracy: 0.9721\n",
            "Epoch 19/25\n",
            "176/176 [==============================] - 43s 244ms/step - loss: 0.1402 - accuracy: 0.9601\n",
            "Epoch 20/25\n",
            "176/176 [==============================] - 43s 244ms/step - loss: 0.0947 - accuracy: 0.9677\n",
            "Epoch 21/25\n",
            "176/176 [==============================] - 43s 245ms/step - loss: 0.0937 - accuracy: 0.9734\n",
            "Epoch 22/25\n",
            "176/176 [==============================] - 43s 244ms/step - loss: 0.1247 - accuracy: 0.9639\n",
            "Epoch 23/25\n",
            "176/176 [==============================] - 43s 245ms/step - loss: 0.0939 - accuracy: 0.9791\n",
            "Epoch 24/25\n",
            "176/176 [==============================] - 43s 244ms/step - loss: 0.1240 - accuracy: 0.9683\n",
            "Epoch 25/25\n",
            "176/176 [==============================] - 43s 244ms/step - loss: 0.0891 - accuracy: 0.9715\n",
            "2020-07-19 14:29:17.392492: W tensorflow/core/framework/cpu_allocator_impl.cc:81] Allocation of 205520896 exceeds 10% of free system memory.\n",
            "2020-07-19 14:29:17.997138: W tensorflow/core/framework/cpu_allocator_impl.cc:81] Allocation of 205520896 exceeds 10% of free system memory.\n",
            "2020-07-19 14:29:18.102783: W tensorflow/core/framework/cpu_allocator_impl.cc:81] Allocation of 205520896 exceeds 10% of free system memory.\n"
          ],
          "name": "stdout"
        }
      ]
    },
    {
      "cell_type": "code",
      "metadata": {
        "id": "MNCevjtU_Nw8",
        "colab_type": "code",
        "colab": {
          "base_uri": "https://localhost:8080/",
          "height": 961
        },
        "outputId": "e22e9278-665d-45e2-c4bc-fe573dcd9d0b"
      },
      "source": [
        "!python test.py ./Data/Test/Test_10_percent/data.zip ./model.h5\n",
        "#rd Tmp /s /q"
      ],
      "execution_count": 9,
      "outputs": [
        {
          "output_type": "stream",
          "text": [
            "Using TensorFlow backend.\n",
            "2020-07-19 14:30:17.794118: I tensorflow/stream_executor/platform/default/dso_loader.cc:44] Successfully opened dynamic library libcudart.so.10.1\n",
            "Found 196 images belonging to 9 classes.\n",
            "2020-07-19 14:30:20.098117: I tensorflow/stream_executor/platform/default/dso_loader.cc:44] Successfully opened dynamic library libcuda.so.1\n",
            "2020-07-19 14:30:20.121326: I tensorflow/stream_executor/cuda/cuda_gpu_executor.cc:981] successful NUMA node read from SysFS had negative value (-1), but there must be at least one NUMA node, so returning NUMA node zero\n",
            "2020-07-19 14:30:20.122059: I tensorflow/core/common_runtime/gpu/gpu_device.cc:1561] Found device 0 with properties: \n",
            "pciBusID: 0000:00:04.0 name: Tesla K80 computeCapability: 3.7\n",
            "coreClock: 0.8235GHz coreCount: 13 deviceMemorySize: 11.17GiB deviceMemoryBandwidth: 223.96GiB/s\n",
            "2020-07-19 14:30:20.122101: I tensorflow/stream_executor/platform/default/dso_loader.cc:44] Successfully opened dynamic library libcudart.so.10.1\n",
            "2020-07-19 14:30:20.124628: I tensorflow/stream_executor/platform/default/dso_loader.cc:44] Successfully opened dynamic library libcublas.so.10\n",
            "2020-07-19 14:30:20.134960: I tensorflow/stream_executor/platform/default/dso_loader.cc:44] Successfully opened dynamic library libcufft.so.10\n",
            "2020-07-19 14:30:20.135774: I tensorflow/stream_executor/platform/default/dso_loader.cc:44] Successfully opened dynamic library libcurand.so.10\n",
            "2020-07-19 14:30:20.138584: I tensorflow/stream_executor/platform/default/dso_loader.cc:44] Successfully opened dynamic library libcusolver.so.10\n",
            "2020-07-19 14:30:20.149205: I tensorflow/stream_executor/platform/default/dso_loader.cc:44] Successfully opened dynamic library libcusparse.so.10\n",
            "2020-07-19 14:30:20.160025: I tensorflow/stream_executor/platform/default/dso_loader.cc:44] Successfully opened dynamic library libcudnn.so.7\n",
            "2020-07-19 14:30:20.160171: I tensorflow/stream_executor/cuda/cuda_gpu_executor.cc:981] successful NUMA node read from SysFS had negative value (-1), but there must be at least one NUMA node, so returning NUMA node zero\n",
            "2020-07-19 14:30:20.161023: I tensorflow/stream_executor/cuda/cuda_gpu_executor.cc:981] successful NUMA node read from SysFS had negative value (-1), but there must be at least one NUMA node, so returning NUMA node zero\n",
            "2020-07-19 14:30:20.161667: I tensorflow/core/common_runtime/gpu/gpu_device.cc:1703] Adding visible gpu devices: 0\n",
            "2020-07-19 14:30:20.167826: I tensorflow/core/platform/profile_utils/cpu_utils.cc:102] CPU Frequency: 2300000000 Hz\n",
            "2020-07-19 14:30:20.168060: I tensorflow/compiler/xla/service/service.cc:168] XLA service 0x20dcd80 initialized for platform Host (this does not guarantee that XLA will be used). Devices:\n",
            "2020-07-19 14:30:20.168101: I tensorflow/compiler/xla/service/service.cc:176]   StreamExecutor device (0): Host, Default Version\n",
            "2020-07-19 14:30:20.228725: I tensorflow/stream_executor/cuda/cuda_gpu_executor.cc:981] successful NUMA node read from SysFS had negative value (-1), but there must be at least one NUMA node, so returning NUMA node zero\n",
            "2020-07-19 14:30:20.229485: I tensorflow/compiler/xla/service/service.cc:168] XLA service 0x20dcf40 initialized for platform CUDA (this does not guarantee that XLA will be used). Devices:\n",
            "2020-07-19 14:30:20.229521: I tensorflow/compiler/xla/service/service.cc:176]   StreamExecutor device (0): Tesla K80, Compute Capability 3.7\n",
            "2020-07-19 14:30:20.229742: I tensorflow/stream_executor/cuda/cuda_gpu_executor.cc:981] successful NUMA node read from SysFS had negative value (-1), but there must be at least one NUMA node, so returning NUMA node zero\n",
            "2020-07-19 14:30:20.230397: I tensorflow/core/common_runtime/gpu/gpu_device.cc:1561] Found device 0 with properties: \n",
            "pciBusID: 0000:00:04.0 name: Tesla K80 computeCapability: 3.7\n",
            "coreClock: 0.8235GHz coreCount: 13 deviceMemorySize: 11.17GiB deviceMemoryBandwidth: 223.96GiB/s\n",
            "2020-07-19 14:30:20.230452: I tensorflow/stream_executor/platform/default/dso_loader.cc:44] Successfully opened dynamic library libcudart.so.10.1\n",
            "2020-07-19 14:30:20.230503: I tensorflow/stream_executor/platform/default/dso_loader.cc:44] Successfully opened dynamic library libcublas.so.10\n",
            "2020-07-19 14:30:20.230537: I tensorflow/stream_executor/platform/default/dso_loader.cc:44] Successfully opened dynamic library libcufft.so.10\n",
            "2020-07-19 14:30:20.230591: I tensorflow/stream_executor/platform/default/dso_loader.cc:44] Successfully opened dynamic library libcurand.so.10\n",
            "2020-07-19 14:30:20.230627: I tensorflow/stream_executor/platform/default/dso_loader.cc:44] Successfully opened dynamic library libcusolver.so.10\n",
            "2020-07-19 14:30:20.230661: I tensorflow/stream_executor/platform/default/dso_loader.cc:44] Successfully opened dynamic library libcusparse.so.10\n",
            "2020-07-19 14:30:20.230693: I tensorflow/stream_executor/platform/default/dso_loader.cc:44] Successfully opened dynamic library libcudnn.so.7\n",
            "2020-07-19 14:30:20.230798: I tensorflow/stream_executor/cuda/cuda_gpu_executor.cc:981] successful NUMA node read from SysFS had negative value (-1), but there must be at least one NUMA node, so returning NUMA node zero\n",
            "2020-07-19 14:30:20.231464: I tensorflow/stream_executor/cuda/cuda_gpu_executor.cc:981] successful NUMA node read from SysFS had negative value (-1), but there must be at least one NUMA node, so returning NUMA node zero\n",
            "2020-07-19 14:30:20.232087: I tensorflow/core/common_runtime/gpu/gpu_device.cc:1703] Adding visible gpu devices: 0\n",
            "2020-07-19 14:30:20.232150: I tensorflow/stream_executor/platform/default/dso_loader.cc:44] Successfully opened dynamic library libcudart.so.10.1\n",
            "2020-07-19 14:30:20.656437: I tensorflow/core/common_runtime/gpu/gpu_device.cc:1102] Device interconnect StreamExecutor with strength 1 edge matrix:\n",
            "2020-07-19 14:30:20.656502: I tensorflow/core/common_runtime/gpu/gpu_device.cc:1108]      0 \n",
            "2020-07-19 14:30:20.656522: I tensorflow/core/common_runtime/gpu/gpu_device.cc:1121] 0:   N \n",
            "2020-07-19 14:30:20.656795: I tensorflow/stream_executor/cuda/cuda_gpu_executor.cc:981] successful NUMA node read from SysFS had negative value (-1), but there must be at least one NUMA node, so returning NUMA node zero\n",
            "2020-07-19 14:30:20.657631: I tensorflow/stream_executor/cuda/cuda_gpu_executor.cc:981] successful NUMA node read from SysFS had negative value (-1), but there must be at least one NUMA node, so returning NUMA node zero\n",
            "2020-07-19 14:30:20.658370: W tensorflow/core/common_runtime/gpu/gpu_bfc_allocator.cc:39] Overriding allow_growth setting because the TF_FORCE_GPU_ALLOW_GROWTH environment variable is set. Original config value was 0.\n",
            "2020-07-19 14:30:20.658427: I tensorflow/core/common_runtime/gpu/gpu_device.cc:1247] Created TensorFlow device (/job:localhost/replica:0/task:0/device:GPU:0 with 10634 MB memory) -> physical GPU (device: 0, name: Tesla K80, pci bus id: 0000:00:04.0, compute capability: 3.7)\n",
            "Waiting For Result.........\n",
            "2020-07-19 14:30:35.705396: I tensorflow/stream_executor/platform/default/dso_loader.cc:44] Successfully opened dynamic library libcublas.so.10\n",
            "2020-07-19 14:30:35.856053: I tensorflow/stream_executor/platform/default/dso_loader.cc:44] Successfully opened dynamic library libcudnn.so.7\n",
            "*****************\n",
            "Test Accuracy: 0.9948979616165161\n",
            "*****************\n"
          ],
          "name": "stdout"
        }
      ]
    },
    {
      "cell_type": "code",
      "metadata": {
        "id": "d7lQRl3xDMhP",
        "colab_type": "code",
        "colab": {
          "base_uri": "https://localhost:8080/",
          "height": 34
        },
        "outputId": "5131bb3f-5ba6-45ee-86a7-d16dcaccd8a1"
      },
      "source": [
        "!zip \"/content/BanglaCurrencyRecognizer\" \"/content/BanglaCurrencyRecognizer\""
      ],
      "execution_count": null,
      "outputs": [
        {
          "output_type": "stream",
          "text": [
            "  adding: content/BanglaCurrencyRecognizer/ (stored 0%)\n"
          ],
          "name": "stdout"
        }
      ]
    }
  ]
}